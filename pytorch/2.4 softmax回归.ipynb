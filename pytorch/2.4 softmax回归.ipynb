{
 "cells": [
  {
   "cell_type": "markdown",
   "id": "844e226a",
   "metadata": {},
   "source": [
    "# Softmax回归"
   ]
  },
  {
   "cell_type": "markdown",
   "id": "468b8e6f",
   "metadata": {},
   "source": [
    "多输出模型\n",
    "\n",
    "softmax回归是一个单层神经网络，有多个输出，每个输出取决于所有的输入（特征），因此softmax回归的输出层是一个**全连接层**\n",
    "\n",
    "softmax运算获取一个向量并将其映射为概率\n",
    "\n",
    "交叉熵是一个衡量两个概率分布之间差异的很好的度量，由KL散度得来，交叉熵测量给定模型编码数据所需要的比特数"
   ]
  }
 ],
 "metadata": {
  "kernelspec": {
   "display_name": "Python 3 (ipykernel)",
   "language": "python",
   "name": "python3"
  },
  "language_info": {
   "codemirror_mode": {
    "name": "ipython",
    "version": 3
   },
   "file_extension": ".py",
   "mimetype": "text/x-python",
   "name": "python",
   "nbconvert_exporter": "python",
   "pygments_lexer": "ipython3",
   "version": "3.7.12"
  }
 },
 "nbformat": 4,
 "nbformat_minor": 5
}
