{
 "cells": [
  {
   "cell_type": "markdown",
   "id": "e406333c",
   "metadata": {},
   "source": [
    "# 线性回归的简洁实现"
   ]
  },
  {
   "cell_type": "code",
   "execution_count": 1,
   "id": "a7caa25e",
   "metadata": {},
   "outputs": [],
   "source": [
    "import torch\n",
    "import numpy as np\n",
    "from torch.utils import data\n",
    "from d2l import torch as d2l"
   ]
  },
  {
   "cell_type": "markdown",
   "id": "62ca8194",
   "metadata": {},
   "source": [
    "# 1. 生成数据集"
   ]
  },
  {
   "cell_type": "code",
   "execution_count": 2,
   "id": "689e867b",
   "metadata": {},
   "outputs": [],
   "source": [
    "true_w = torch.tensor([2, -3.4])\n",
    "true_b = 4.2\n",
    "features, labels = d2l.synthetic_data(true_w, true_b, 1000)"
   ]
  },
  {
   "cell_type": "markdown",
   "id": "702393e0",
   "metadata": {},
   "source": [
    "# 2. 读取数据集"
   ]
  },
  {
   "cell_type": "code",
   "execution_count": 4,
   "id": "8e1c636b",
   "metadata": {},
   "outputs": [],
   "source": [
    "# TensorDataset 可以用来对 tensor 进行打包，就好像 python 中的 zip 功能。\n",
    "# 该类通过每一个 tensor 的第一个维度进行索引。因此，该类中的 tensor 第一维度必须相等\n",
    "\n",
    "a = torch.tensor([[1, 2, 3], [4, 5, 6], [7, 8, 9], [1, 2, 3], [4, 5, 6], [7, 8, 9], \n",
    "                  [1, 2, 3], [4, 5, 6], [7, 8, 9], [1, 2, 3], [4, 5, 6], [7, 8, 9]])\n",
    "\n",
    "b = torch.tensor([44, 55, 66, 44, 55, 66, 44, 55, 66, 44, 55, 66])\n",
    "\n",
    "train_ids = data.TensorDataset(a, b) #相当于zip函数"
   ]
  },
  {
   "cell_type": "code",
   "execution_count": 10,
   "id": "96ff321d",
   "metadata": {},
   "outputs": [
    {
     "name": "stdout",
     "output_type": "stream",
     "text": [
      "tensor([1, 2, 3]) \t tensor(44)\n",
      "tensor([4, 5, 6]) \t tensor(55)\n",
      "tensor([7, 8, 9]) \t tensor(66)\n",
      "tensor([1, 2, 3]) \t tensor(44)\n",
      "tensor([4, 5, 6]) \t tensor(55)\n",
      "tensor([7, 8, 9]) \t tensor(66)\n",
      "tensor([1, 2, 3]) \t tensor(44)\n",
      "tensor([4, 5, 6]) \t tensor(55)\n",
      "tensor([7, 8, 9]) \t tensor(66)\n",
      "tensor([1, 2, 3]) \t tensor(44)\n",
      "tensor([4, 5, 6]) \t tensor(55)\n",
      "tensor([7, 8, 9]) \t tensor(66)\n"
     ]
    }
   ],
   "source": [
    "for x, y in train_ids:\n",
    "    print(x, \"\\t\", y)"
   ]
  },
  {
   "cell_type": "code",
   "execution_count": 11,
   "id": "05371f9e",
   "metadata": {},
   "outputs": [],
   "source": [
    "def load_array(data_arrays, batch_size, is_train=True):\n",
    "    \"\"\"构造一个PyTorch数据迭代器\"\"\"\n",
    "    dataset = data.TensorDataset(*data_arrays)\n",
    "    return data.DataLoader(dataset, batch_size, shuffle=is_train)"
   ]
  },
  {
   "cell_type": "code",
   "execution_count": 12,
   "id": "04dafbb8",
   "metadata": {},
   "outputs": [],
   "source": [
    "batch_size = 10\n",
    "data_iter = load_array((features, labels), batch_size)"
   ]
  },
  {
   "cell_type": "code",
   "execution_count": 13,
   "id": "22df7cf9",
   "metadata": {},
   "outputs": [
    {
     "data": {
      "text/plain": [
       "[tensor([[ 2.5866, -1.0703],\n",
       "         [ 0.9033, -0.9955],\n",
       "         [ 1.6367,  0.7435],\n",
       "         [ 0.5530, -1.4914],\n",
       "         [-1.2659,  0.1651],\n",
       "         [ 0.6968,  2.6223],\n",
       "         [-0.2903, -0.2618],\n",
       "         [-0.7968, -0.6303],\n",
       "         [ 0.6292,  0.1415],\n",
       "         [-1.2684, -0.2513]]),\n",
       " tensor([[12.9994],\n",
       "         [ 9.3823],\n",
       "         [ 4.9494],\n",
       "         [10.3625],\n",
       "         [ 1.0872],\n",
       "         [-3.3172],\n",
       "         [ 4.5143],\n",
       "         [ 4.7385],\n",
       "         [ 4.9802],\n",
       "         [ 2.5486]])]"
      ]
     },
     "execution_count": 13,
     "metadata": {},
     "output_type": "execute_result"
    }
   ],
   "source": [
    "# 读取并打印第一个小批量样本\n",
    "# 这里我们使用 iter 来构造Python迭代器，并使用next()从迭代器中获取第一项\n",
    "\n",
    "next((iter(data_iter)))"
   ]
  },
  {
   "cell_type": "markdown",
   "id": "3c093b67",
   "metadata": {},
   "source": [
    "# 3. 定义模型"
   ]
  },
  {
   "cell_type": "code",
   "execution_count": 14,
   "id": "3209afe3",
   "metadata": {},
   "outputs": [],
   "source": [
    "# 我们首先定义一个模型变量 net，它是一个Sequential类的实例\n",
    "# 然后在这个实例中添加层的实例\n",
    "# 全连接层是在 Linear 类中定义的\n",
    "\n",
    "from torch import nn\n",
    "\n",
    "net = nn.Sequential(nn.Linear(in_features=2, out_features=1, bias=True))"
   ]
  },
  {
   "cell_type": "code",
   "execution_count": 23,
   "id": "905585fb",
   "metadata": {},
   "outputs": [
    {
     "name": "stdout",
     "output_type": "stream",
     "text": [
      "Parameter containing:\n",
      "tensor([[0.0149, 0.0061]], requires_grad=True)\n",
      "Parameter containing:\n",
      "tensor([0.], requires_grad=True)\n"
     ]
    }
   ],
   "source": [
    "# 显示模型待训练的参数\n",
    "for param in net.parameters():\n",
    "    print(param)"
   ]
  },
  {
   "cell_type": "markdown",
   "id": "46e6f029",
   "metadata": {},
   "source": [
    "# 4. 初始化模型参数"
   ]
  },
  {
   "cell_type": "code",
   "execution_count": 17,
   "id": "96c80183",
   "metadata": {},
   "outputs": [
    {
     "data": {
      "text/plain": [
       "(tensor([[ 0.0854, -0.3812]]), tensor([-0.1068]))"
      ]
     },
     "execution_count": 17,
     "metadata": {},
     "output_type": "execute_result"
    }
   ],
   "source": [
    "# 通过 net[0] 来选择网络中的第一个图层，然后使用 weight.data 和 bias.data 方法来访问参数\n",
    "# 现在是系统自动为我们做的初始化\n",
    "net[0].weight.data, net[0].bias.data"
   ]
  },
  {
   "cell_type": "code",
   "execution_count": 48,
   "id": "a63d05fa",
   "metadata": {},
   "outputs": [
    {
     "data": {
      "text/plain": [
       "tensor([0.])"
      ]
     },
     "execution_count": 48,
     "metadata": {},
     "output_type": "execute_result"
    }
   ],
   "source": [
    "# 对权重矩阵和偏置，我们进一步使用方法来初始化\n",
    "net[0].weight.data.normal_(0, 0.01)\n",
    "net[0].bias.data.fill_(0)"
   ]
  },
  {
   "cell_type": "code",
   "execution_count": 49,
   "id": "ef285365",
   "metadata": {},
   "outputs": [
    {
     "data": {
      "text/plain": [
       "(tensor([[ 0.0050, -0.0032]]), tensor([0.]))"
      ]
     },
     "execution_count": 49,
     "metadata": {},
     "output_type": "execute_result"
    }
   ],
   "source": [
    "# 参数初始化完毕\n",
    "net[0].weight.data, net[0].bias.data"
   ]
  },
  {
   "cell_type": "markdown",
   "id": "44934f7e",
   "metadata": {},
   "source": [
    "# 5. 定义损失函数"
   ]
  },
  {
   "cell_type": "code",
   "execution_count": 50,
   "id": "97653ae7",
   "metadata": {},
   "outputs": [],
   "source": [
    "# 计算均方误差使用的是 MSELoss类，默认情况下，返回的是所有样本损失的平均值\n",
    "\n",
    "lossMSE = nn.MSELoss()\n",
    "\n",
    "# Huber损失函数\n",
    "lossHuber = nn.HuberLoss(delta=1)"
   ]
  },
  {
   "cell_type": "markdown",
   "id": "3362acc4",
   "metadata": {},
   "source": [
    "# 6. 定义优化算法"
   ]
  },
  {
   "cell_type": "code",
   "execution_count": 51,
   "id": "4525ef91",
   "metadata": {},
   "outputs": [],
   "source": [
    "# 小批量随机梯度下降法是一种优化神经网络的标准工具\n",
    "# pytorch在 optim 模块中实现了该算法的许多变种\n",
    "# 使用的方法就是创建一个对应的实例，然后指定优化的参数以及其他的超参数，可以以关键字传入，也可以通过字典传入\n",
    "\n",
    "trainer = torch.optim.SGD(net.parameters(), lr=0.03)"
   ]
  },
  {
   "cell_type": "markdown",
   "id": "c22ddbd1",
   "metadata": {},
   "source": [
    "# 7. 训练"
   ]
  },
  {
   "cell_type": "markdown",
   "id": "5573b4f9",
   "metadata": {},
   "source": [
    "在每个迭代周期里（epoch），我们将完整的遍历一遍数据集，不停地从中获取一个小批量的输入和相应的标签。\n",
    "\n",
    "对于每一个小批量，我们进行如下步骤：\n",
    "1. 通过调用`net(x)` 生成预测并计算损失`l`（前向传播）\n",
    "2. 通过反向传播来计算梯度\n",
    "3. 通过调用优化器来更新模型参数\n",
    "4. 计算每个迭代周期（epoch）后的损失，用来监控训练过程"
   ]
  },
  {
   "cell_type": "code",
   "execution_count": 52,
   "id": "63cf7c87",
   "metadata": {},
   "outputs": [
    {
     "name": "stdout",
     "output_type": "stream",
     "text": [
      "epoch 1, loss 2.273136\n",
      "epoch 2, loss 0.311876\n",
      "epoch 3, loss 0.000669\n",
      "epoch 4, loss 0.000049\n",
      "epoch 5, loss 0.000047\n"
     ]
    }
   ],
   "source": [
    "num_epochs = 5\n",
    "\n",
    "for epoch in range(num_epochs):\n",
    "    for X, y in data_iter:\n",
    "        trainer.zero_grad()\n",
    "        y_pred = net(X)\n",
    "        # l = lossMSE(y_pred, y)\n",
    "        l = lossHuber(y_pred, y)       \n",
    "        l.backward()\n",
    "        trainer.step()\n",
    "        \n",
    "    # l = lossMSE(net(features), labels)\n",
    "    l = lossHuber(net(features), labels)\n",
    "    print(f\"epoch {epoch + 1}, loss {l:f}\")"
   ]
  },
  {
   "cell_type": "code",
   "execution_count": 53,
   "id": "b4bd7b3a",
   "metadata": {},
   "outputs": [
    {
     "data": {
      "text/plain": [
       "(tensor([[ 2.0012, -3.3995]]), tensor([4.1999]))"
      ]
     },
     "execution_count": 53,
     "metadata": {},
     "output_type": "execute_result"
    }
   ],
   "source": [
    "net[0].weight.data, net[0].bias.data"
   ]
  },
  {
   "cell_type": "code",
   "execution_count": 54,
   "id": "9fe0ea92",
   "metadata": {},
   "outputs": [
    {
     "name": "stdout",
     "output_type": "stream",
     "text": [
      "w的估计误差为：tensor([-0.0012, -0.0005])\n",
      "b的估计误差为：tensor([0.0001])\n"
     ]
    }
   ],
   "source": [
    "# 获取训练后的参数\n",
    "w = net[0].weight.data\n",
    "b = net[0].bias.data\n",
    "\n",
    "print(f\"w的估计误差为：{true_w - w.reshape(true_w.shape)}\")\n",
    "print(f\"b的估计误差为：{true_b - b}\")"
   ]
  },
  {
   "cell_type": "markdown",
   "id": "b77472ba",
   "metadata": {},
   "source": [
    "# 8. 训练的基本框架"
   ]
  },
  {
   "cell_type": "code",
   "execution_count": null,
   "id": "38e2ecae",
   "metadata": {},
   "outputs": [],
   "source": [
    "# 下面便是训练模型的通用框架\n",
    "\n",
    "for input, target in dataset:\n",
    "    optimizer.zero_grad()\n",
    "    output = model(input)\n",
    "    loss = loss_fn(output, target)\n",
    "    loss.backward()\n",
    "    optimizer.step()"
   ]
  }
 ],
 "metadata": {
  "kernelspec": {
   "display_name": "Python 3 (ipykernel)",
   "language": "python",
   "name": "python3"
  },
  "language_info": {
   "codemirror_mode": {
    "name": "ipython",
    "version": 3
   },
   "file_extension": ".py",
   "mimetype": "text/x-python",
   "name": "python",
   "nbconvert_exporter": "python",
   "pygments_lexer": "ipython3",
   "version": "3.7.12"
  }
 },
 "nbformat": 4,
 "nbformat_minor": 5
}
